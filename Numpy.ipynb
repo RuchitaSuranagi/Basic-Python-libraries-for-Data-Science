{
 "cells": [
  {
   "cell_type": "code",
   "execution_count": 14,
   "metadata": {},
   "outputs": [
    {
     "name": "stdout",
     "output_type": "stream",
     "text": [
      "[1 2 3]\n",
      "1   2   3\n",
      "<class 'numpy.ndarray'>\n",
      "(3,)\n"
     ]
    }
   ],
   "source": [
    "import numpy as np\n",
    "a = np.array([1, 2, 3])           #set up a numpy array\n",
    "print(a)\n",
    "\n",
    "print(a[0], \" \", a[1], \" \", a[2])\n",
    "\n",
    "print(type(a))\n",
    "print(a.shape)"
   ]
  },
  {
   "cell_type": "code",
   "execution_count": 15,
   "metadata": {},
   "outputs": [
    {
     "data": {
      "text/plain": [
       "array([ 0,  1,  2,  3,  4,  5,  6,  7,  8,  9, 10, 11])"
      ]
     },
     "execution_count": 15,
     "metadata": {},
     "output_type": "execute_result"
    }
   ],
   "source": [
    "b = np.arange(12)\n",
    "b    #shows whats in b or print(b):prints whats stored in b"
   ]
  },
  {
   "cell_type": "code",
   "execution_count": 16,
   "metadata": {},
   "outputs": [
    {
     "name": "stdout",
     "output_type": "stream",
     "text": [
      "(12,)\n"
     ]
    },
    {
     "data": {
      "text/plain": [
       "array([[ 0,  1,  2,  3],\n",
       "       [ 4,  5,  6,  7],\n",
       "       [ 8,  9, 10, 11]])"
      ]
     },
     "execution_count": 16,
     "metadata": {},
     "output_type": "execute_result"
    }
   ],
   "source": [
    "print(b.shape)\n",
    "b.reshape(3,4)"
   ]
  },
  {
   "cell_type": "code",
   "execution_count": 61,
   "metadata": {},
   "outputs": [
    {
     "name": "stdout",
     "output_type": "stream",
     "text": [
      "[[ 1  9  2]\n",
      " [ 7 16  5]\n",
      " [ 4  8  3]]\n",
      "R,C: (3, 3)\n",
      "DIMENTION: 2\n",
      "ITEM SIZE: 4\n"
     ]
    }
   ],
   "source": [
    "c = np.array([[1,9,2],[7, 16, 5] ,[4,8,3]])\n",
    "print(c)\n",
    "print(\"R,C:\", c.shape)\n",
    "print(\"DIMENTION:\",c.ndim)\n",
    "print(\"ITEM SIZE:\", c.itemsize)"
   ]
  },
  {
   "cell_type": "code",
   "execution_count": 123,
   "metadata": {},
   "outputs": [
    {
     "data": {
      "text/plain": [
       "array([-0.36400945, -0.47277949,  0.72527413,  0.27031457, -0.73554103])"
      ]
     },
     "execution_count": 123,
     "metadata": {},
     "output_type": "execute_result"
    }
   ],
   "source": [
    "# Creating a random N array\n",
    "n = np.random.randn(5)\n",
    "n"
   ]
  },
  {
   "cell_type": "code",
   "execution_count": 73,
   "metadata": {},
   "outputs": [
    {
     "data": {
      "text/plain": [
       "array([[ 1.,  9.,  2.],\n",
       "       [ 7., 16.,  5.],\n",
       "       [ 4.,  8.,  3.]])"
      ]
     },
     "execution_count": 73,
     "metadata": {},
     "output_type": "execute_result"
    }
   ],
   "source": [
    "c = np.array([[1,9,2],[7, 16, 5] ,[4,8,3]], dtype = np.float64)      #converting integer array to float using Data types\n",
    "c"
   ]
  },
  {
   "cell_type": "code",
   "execution_count": 67,
   "metadata": {},
   "outputs": [
    {
     "data": {
      "text/plain": [
       "array([[ 1.+0.j,  9.+0.j,  2.+0.j],\n",
       "       [ 7.+0.j, 16.+0.j,  5.+0.j],\n",
       "       [ 4.+0.j,  8.+0.j,  3.+0.j]])"
      ]
     },
     "execution_count": 67,
     "metadata": {},
     "output_type": "execute_result"
    }
   ],
   "source": [
    "c = np.array([[1,9,2],[7, 16, 5] ,[4,8,3]], dtype = np.complex)      #converting array to complex\n",
    "c"
   ]
  },
  {
   "cell_type": "code",
   "execution_count": 75,
   "metadata": {},
   "outputs": [
    {
     "data": {
      "text/plain": [
       "array([[0., 0., 0., 0.],\n",
       "       [0., 0., 0., 0.],\n",
       "       [0., 0., 0., 0.]])"
      ]
     },
     "execution_count": 75,
     "metadata": {},
     "output_type": "execute_result"
    }
   ],
   "source": [
    "np.zeros((3,4))"
   ]
  },
  {
   "cell_type": "code",
   "execution_count": 76,
   "metadata": {},
   "outputs": [
    {
     "data": {
      "text/plain": [
       "array([[1., 1., 1.],\n",
       "       [1., 1., 1.]])"
      ]
     },
     "execution_count": 76,
     "metadata": {},
     "output_type": "execute_result"
    }
   ],
   "source": [
    "np.ones((2,3))"
   ]
  },
  {
   "cell_type": "code",
   "execution_count": 51,
   "metadata": {},
   "outputs": [
    {
     "name": "stdout",
     "output_type": "stream",
     "text": [
      "28000\n"
     ]
    }
   ],
   "source": [
    "#python array occupies more memeory\n",
    "import sys\n",
    "import time\n",
    "x = range(1000)\n",
    "\n",
    "print(sys.getsizeof(5)* len(x)) "
   ]
  },
  {
   "cell_type": "code",
   "execution_count": 52,
   "metadata": {},
   "outputs": [
    {
     "name": "stdout",
     "output_type": "stream",
     "text": [
      "4000\n"
     ]
    }
   ],
   "source": [
    "#numby occupies less memeory\n",
    "x = np.arange(1000)             \n",
    "print(x.itemsize*x.size)   "
   ]
  },
  {
   "cell_type": "code",
   "execution_count": 53,
   "metadata": {},
   "outputs": [],
   "source": [
    "#python list takes longer time than numpy array\n",
    "size = 10000\n",
    "L1 = range(size)\n",
    "L2 = range(size)\n",
    "A1 = np.arange(size)\n",
    "A2 = np.arange(size)"
   ]
  },
  {
   "cell_type": "code",
   "execution_count": 69,
   "metadata": {},
   "outputs": [
    {
     "name": "stdout",
     "output_type": "stream",
     "text": [
      "Python list took: 4.899501800537109\n"
     ]
    }
   ],
   "source": [
    "start = time.time()                                   #starts the time \n",
    "result = [(x,y) for x,y in zip(L1, L2)]\n",
    "print(\"Python list took:\", (time.time() - start)*1000)"
   ]
  },
  {
   "cell_type": "code",
   "execution_count": 74,
   "metadata": {},
   "outputs": [
    {
     "name": "stdout",
     "output_type": "stream",
     "text": [
      "Numpy array took: 0.0\n"
     ]
    }
   ],
   "source": [
    "start =time.time()\n",
    "result = A1+A2\n",
    "print(\"Numpy array took:\", (time.time() - start)*1000)"
   ]
  },
  {
   "cell_type": "code",
   "execution_count": 78,
   "metadata": {},
   "outputs": [
    {
     "name": "stdout",
     "output_type": "stream",
     "text": [
      "CONCAT 2 CHAR:\n",
      " ['helloabc' 'worldxyz']\n"
     ]
    }
   ],
   "source": [
    "# concatenation\n",
    "print(\"CONCAT 2 CHAR:\\n\", np.char.add(['hello','world'], ['abc','xyz']))"
   ]
  },
  {
   "cell_type": "code",
   "execution_count": 83,
   "metadata": {},
   "outputs": [
    {
     "name": "stdout",
     "output_type": "stream",
     "text": [
      "HELLO HELLO HELLO HELLO \n"
     ]
    }
   ],
   "source": [
    "print(np.char.multiply('HELLO ', 4))"
   ]
  },
  {
   "cell_type": "code",
   "execution_count": 88,
   "metadata": {},
   "outputs": [
    {
     "name": "stdout",
     "output_type": "stream",
     "text": [
      "-----------------HELLO------------------\n"
     ]
    }
   ],
   "source": [
    "print(np.char.center('HELLO', 40, fillchar = '-'))"
   ]
  },
  {
   "cell_type": "code",
   "execution_count": 93,
   "metadata": {},
   "outputs": [
    {
     "name": "stdout",
     "output_type": "stream",
     "text": [
      "Hello world\n"
     ]
    }
   ],
   "source": [
    "print(np.char.capitalize('heLLo WORLD'))          #capitalizes only the 1st alpabet of the 1st word"
   ]
  },
  {
   "cell_type": "code",
   "execution_count": 94,
   "metadata": {},
   "outputs": [
    {
     "name": "stdout",
     "output_type": "stream",
     "text": [
      "It Capitalizes First Alpabhet Of Each Word!\n"
     ]
    }
   ],
   "source": [
    "print(np.char.title('it capitalizes first alpabhet of each word!'))"
   ]
  },
  {
   "cell_type": "code",
   "execution_count": 100,
   "metadata": {},
   "outputs": [
    {
     "name": "stdout",
     "output_type": "stream",
     "text": [
      "['hello' 'world']\n",
      "hello world\n"
     ]
    }
   ],
   "source": [
    "print(np.char.lower(['HELLO' , 'WORLD']))\n",
    "print(np.char.lower('HELLO WORLD'))"
   ]
  },
  {
   "cell_type": "code",
   "execution_count": 104,
   "metadata": {},
   "outputs": [
    {
     "name": "stdout",
     "output_type": "stream",
     "text": [
      "['HELLO' 'WORLD']\n",
      "HELLO WORLD\n"
     ]
    }
   ],
   "source": [
    "print(np.char.upper(['hello' , 'World']))\n",
    "print(np.char.upper('hello World'))"
   ]
  },
  {
   "cell_type": "code",
   "execution_count": 106,
   "metadata": {},
   "outputs": [
    {
     "name": "stdout",
     "output_type": "stream",
     "text": [
      "['it', 'splits', 'each', 'of', 'words', 'in', 'a', 'statement!']\n"
     ]
    }
   ],
   "source": [
    "print(np.char.split('it splits each of words in a statement!'))"
   ]
  },
  {
   "cell_type": "code",
   "execution_count": 110,
   "metadata": {},
   "outputs": [
    {
     "name": "stdout",
     "output_type": "stream",
     "text": [
      "['Hello World', 'now it splits again!']\n"
     ]
    }
   ],
   "source": [
    "print(np.char.splitlines('Hello World\\nnow it splits again!'))"
   ]
  },
  {
   "cell_type": "code",
   "execution_count": 120,
   "metadata": {},
   "outputs": [
    {
     "name": "stdout",
     "output_type": "stream",
     "text": [
      "['lph' 'ett' 'lkon']\n"
     ]
    }
   ],
   "source": [
    "print(np.char.strip([\"alpha\", \"etta\" , \"alkon\"],\"a\"))"
   ]
  },
  {
   "cell_type": "code",
   "execution_count": 121,
   "metadata": {},
   "outputs": [
    {
     "name": "stdout",
     "output_type": "stream",
     "text": [
      "['m:o:n:t:h' 'y-e-a-r']\n"
     ]
    }
   ],
   "source": [
    "print(np.char.join([':','-'], ['month','year']))"
   ]
  },
  {
   "cell_type": "code",
   "execution_count": 122,
   "metadata": {},
   "outputs": [
    {
     "name": "stdout",
     "output_type": "stream",
     "text": [
      "It was true.\n"
     ]
    }
   ],
   "source": [
    "print(np.char.replace('It is true.', 'is', 'was'))"
   ]
  },
  {
   "cell_type": "code",
   "execution_count": null,
   "metadata": {},
   "outputs": [],
   "source": []
  }
 ],
 "metadata": {
  "kernelspec": {
   "display_name": "Python 3",
   "language": "python",
   "name": "python3"
  },
  "language_info": {
   "codemirror_mode": {
    "name": "ipython",
    "version": 3
   },
   "file_extension": ".py",
   "mimetype": "text/x-python",
   "name": "python",
   "nbconvert_exporter": "python",
   "pygments_lexer": "ipython3",
   "version": "3.7.6"
  }
 },
 "nbformat": 4,
 "nbformat_minor": 4
}
